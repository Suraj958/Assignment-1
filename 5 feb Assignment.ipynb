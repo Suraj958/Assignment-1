{
 "cells": [
  {
   "cell_type": "code",
   "execution_count": 9,
   "id": "ba97a36b-04d3-4867-91ba-f20e06e653a6",
   "metadata": {},
   "outputs": [
    {
     "data": {
      "text/plain": [
       "' \\n\\'Class\\' is a blueprint or a template for creating objects (a particular data structure),providing initial values for state\\n(member variables or attributes), and implementations of behavior (member functions or methods).\\n\\n\\'Object\\' is an instance of a Class. It is a basic unit of Object-Oriented Programming and represents a real-world entity \\nwith its properties and behavior.\\n\\nExample:\\nConsider a Class called \"Car\" with attributes such as \"make\", \"model\", and \"year\". The behavior of the Car Class could \\ninclude \"start\", \"accelerate\", and \"stop\".\\n\\nA specific car object can be created using this class, for example, a 2019 Toyota Camry. This object would have the values\\n\"Toyota\" for make, \"Camry\" for model, and \"2019\" for year.\\n'"
      ]
     },
     "execution_count": 9,
     "metadata": {},
     "output_type": "execute_result"
    }
   ],
   "source": [
    "# Q1\n",
    "\"\"\" \n",
    "'Class' is a blueprint or a template for creating objects (a particular data structure),providing initial values for state\n",
    "(member variables or attributes), and implementations of behavior (member functions or methods).\n",
    "\n",
    "'Object' is an instance of a Class. It is a basic unit of Object-Oriented Programming and represents a real-world entity \n",
    "with its properties and behavior.\n",
    "\n",
    "Example:\n",
    "Consider a Class called \"Car\" with attributes such as \"make\", \"model\", and \"year\". The behavior of the Car Class could \n",
    "include \"start\", \"accelerate\", and \"stop\".\n",
    "\n",
    "A specific car object can be created using this class, for example, a 2019 Toyota Camry. This object would have the values\n",
    "\"Toyota\" for make, \"Camry\" for model, and \"2019\" for year.\n",
    "\"\"\""
   ]
  },
  {
   "cell_type": "code",
   "execution_count": 10,
   "id": "1e98f1a1-e732-482d-a648-e71adc1f30d3",
   "metadata": {},
   "outputs": [
    {
     "data": {
      "text/plain": [
       "'\\nfour pillars of Object-Oriented Programming (OOP) are:\\n\\nEncapsulation: The wrapping up of data and functions into a single unit (an object). It provides a secure mechanism for \\nhiding the implementation details of a class from other parts of the program.\\n\\nAbstraction: The process of hiding the implementation details and exposing only the essential features of an object, to \\nthe users.\\n\\nInheritance: The mechanism of obtaining the features of a class from another class. It provides a way to create new \\nclasses that are built upon existing classes.\\n\\nPolymorphism: The ability of objects to take on multiple forms. It allows objects of different classes to be treated as \\nobjects of a common class.\\n'"
      ]
     },
     "execution_count": 10,
     "metadata": {},
     "output_type": "execute_result"
    }
   ],
   "source": [
    "# Q2\n",
    "\"\"\"\n",
    "four pillars of Object-Oriented Programming (OOP) are:\n",
    "\n",
    "Encapsulation: The wrapping up of data and functions into a single unit (an object). It provides a secure mechanism for \n",
    "hiding the implementation details of a class from other parts of the program.\n",
    "\n",
    "Abstraction: The process of hiding the implementation details and exposing only the essential features of an object, to \n",
    "the users.\n",
    "\n",
    "Inheritance: The mechanism of obtaining the features of a class from another class. It provides a way to create new \n",
    "classes that are built upon existing classes.\n",
    "\n",
    "Polymorphism: The ability of objects to take on multiple forms. It allows objects of different classes to be treated as \n",
    "objects of a common class.\n",
    "\"\"\""
   ]
  },
  {
   "cell_type": "code",
   "execution_count": 11,
   "id": "1488b0fc-c1f9-45a1-8fe7-fe3dc36f088a",
   "metadata": {},
   "outputs": [
    {
     "name": "stdout",
     "output_type": "stream",
     "text": [
      "Hello, my name is Suraj\n"
     ]
    }
   ],
   "source": [
    "# Q3\n",
    "\"\"\"The __init__ function is called every time an object is created from a class. The __init__ method lets the class initialize the \n",
    "object's attributes and serves no other purpose.It is only used within classes.\"\"\"\n",
    "# A Sample class with init method\n",
    "class Person:\n",
    " \n",
    "    # init method or constructor\n",
    "    def __init__(self, name):\n",
    "        self.name = name\n",
    " \n",
    "    # Sample Method\n",
    "    def say_hi(self):\n",
    "        print('Hello, my name is', self.name)\n",
    " \n",
    " \n",
    "p = Person('Suraj')\n",
    "p.say_hi()"
   ]
  },
  {
   "cell_type": "code",
   "execution_count": 12,
   "id": "f23d1798-4d64-45a8-9ad5-803bda1be8d5",
   "metadata": {},
   "outputs": [
    {
     "name": "stdout",
     "output_type": "stream",
     "text": [
      "Bark! My name is Jack\n"
     ]
    }
   ],
   "source": [
    "# Q4\n",
    "\"\"\" In Object-Oriented Programming (OOP), self is a reference to the current instance of the class. It is used to access \n",
    "the\n",
    "attributes and methods of the class within the class definition.\n",
    "\n",
    "When a method is called on an object, the object is automatically passed as the first argument to the method. \n",
    "This argument is usually named self by convention. In the method definition, self refers to the object on which the \n",
    "method was called.\n",
    "\"\"\"\n",
    "class Dog:\n",
    "    def __init__(self, breed, name):\n",
    "        self.breed = breed\n",
    "        self.name = name\n",
    "\n",
    "    def bark(self):\n",
    "        print(\"Bark! My name is {}\".format(self.name))\n",
    "\n",
    "dog = Dog(\"Doberman\", \"Jack\")\n",
    "dog.bark()"
   ]
  },
  {
   "cell_type": "code",
   "execution_count": 13,
   "id": "48051c99-40f0-431b-80ad-6d38b5abbd4b",
   "metadata": {},
   "outputs": [],
   "source": [
    "# Q5\n",
    "\"\"\"Inheritance is a mechanism in which one class acquires the property of another class. For example, a child inherits the traits of his/\n",
    "her parents. With inheritance,we can reuse the fields and methods of the existing class. Hence, inheritance facilitatesReusability and is\n",
    "an important concept of OOPs\"\"\"\n",
    "\n",
    "\"\"\"1) Single Inheritance: In single inheritance, a derived class inherits from a single base class. For example:\"\"\"\n",
    "\n",
    "class Animal:\n",
    "    def __init__(self, species):\n",
    "        self.species = species\n",
    "\n",
    "    def show_species(self):\n",
    "        print(\"Species:\", self.species)\n",
    "\n",
    "class Dog(Animal):\n",
    "    def __init__(self, breed, name):\n",
    "        Animal.__init__(self, \"Canine\")\n",
    "        self.breed = breed\n",
    "        self.name = name\n",
    "\n",
    "    def show_breed(self):\n",
    "        print(\"Breed:\", self.breed)\n",
    "\"\"\"\n",
    "2) Multiple Inheritance: In multiple inheritance, a derived class inherits from multiple base classes. For example:\n",
    "\"\"\"\n",
    "class Animal:\n",
    "    def __init__(self, species):\n",
    "        self.species = species\n",
    "\n",
    "    def show_species(self):\n",
    "        print(\"Species:\", self.species)\n",
    "\n",
    "class Domestic:\n",
    "    def __init__(self, pet):\n",
    "        self.pet = pet\n",
    "\n",
    "    def show_pet(self):\n",
    "        print(\"Pet:\", self.pet)\n",
    "\n",
    "class Dog(Animal, Domestic):\n",
    "    def __init__(self, breed, name):\n",
    "        Animal.__init__(self, \"Canine\")\n",
    "        Domestic.__init__(self, True)\n",
    "        self.breed = breed\n",
    "        self.name = name\n",
    "\n",
    "    def show_breed(self):\n",
    "        print(\"Breed:\", self.breed)\n",
    "\"\"\"\n",
    "3) Multi-level Inheritance: In multi-level inheritance, a derived class inherits from a base class, which in turn \n",
    "inherits from another base class. For example:\n",
    "\"\"\"\n",
    "class Animal:\n",
    "    def __init__(self, species):\n",
    "        self.species = species\n",
    "\n",
    "    def show_species(self):\n",
    "        print(\"Species:\", self.species)\n",
    "\n",
    "class Domestic(Animal):\n",
    "    def __init__(self, pet):\n",
    "        Animal.__init__(self, \"Domestic Animal\")\n",
    "        self.pet = pet\n",
    "\n",
    "    def show_pet(self):\n",
    "        print(\"Pet:\", self.pet)\n",
    "\n",
    "class Dog(Domestic):\n",
    "    def __init__(self, breed, name):\n",
    "        Domestic.__init__(self, True)\n",
    "        self.breed = breed\n",
    "        self.name = name\n",
    "\n",
    "    def show_breed(self):\n",
    "        print(\"Breed:\", self.breed)\n",
    "\"\"\"\n",
    "4) Hierarchical Inheritance: In this type of inheritance, a single class serves as a base class for multiple derived \n",
    "classes. The derived classes inherit the properties and methods of the base class.\n",
    "\"\"\"\n",
    "class Animal:\n",
    "    def __init__(self,name):\n",
    "        self.name = name\n",
    "\n",
    "class Dog(Animal):\n",
    "    def __init__(self,breed):\n",
    "        Animal.__init__(self,'Dog')\n",
    "        self.breed = breed\n",
    "\n",
    "class Cat(Animal):\n",
    "    def __init__(self,fur):\n",
    "        Animal.__init__(self,'Cat')\n",
    "        self.fur = fur\n",
    "\n",
    "dog = Dog('Labrador')\n",
    "cat = Cat('Long Hair')\n",
    "\"\"\"\n",
    "Hybrid Inheritance: This is a combination of multiple inheritance and hierarchical inheritance. In this type of \n",
    "inheritance, more than one inheritance is combined to form a hybrid inheritance.\n",
    "\"\"\"\n",
    "class Animal:\n",
    "    def __init__(self,name):\n",
    "        self.name = name\n",
    "\n",
    "class Mammal(Animal):\n",
    "    def __init__(self, species):\n",
    "        Animal.__init__(self,'Mammal')\n",
    "        self.species = species\n",
    "\n",
    "class Dog(Mammal):\n",
    "    def __init__(self, breed):\n",
    "        Mammal.__init__(self,'Canine')\n",
    "        self.breed = breed\n",
    "\n",
    "dog = Dog('Labrador')"
   ]
  },
  {
   "cell_type": "code",
   "execution_count": null,
   "id": "e2f5a130-c400-4b0c-98db-256bf7b76c59",
   "metadata": {},
   "outputs": [],
   "source": []
  }
 ],
 "metadata": {
  "kernelspec": {
   "display_name": "Python 3 (ipykernel)",
   "language": "python",
   "name": "python3"
  },
  "language_info": {
   "codemirror_mode": {
    "name": "ipython",
    "version": 3
   },
   "file_extension": ".py",
   "mimetype": "text/x-python",
   "name": "python",
   "nbconvert_exporter": "python",
   "pygments_lexer": "ipython3",
   "version": "3.10.8"
  }
 },
 "nbformat": 4,
 "nbformat_minor": 5
}
