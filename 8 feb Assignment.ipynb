{
 "cells": [
  {
   "cell_type": "code",
   "execution_count": 5,
   "id": "7e5d5bfd-5e4e-41e8-a1a5-d1dfea32cdc1",
   "metadata": {},
   "outputs": [
    {
     "name": "stdout",
     "output_type": "stream",
     "text": [
      "Circle area: 314.0\n",
      "Rectangle area: 600\n"
     ]
    }
   ],
   "source": [
    "# Q1\n",
    "'''Abstraction is a fundamental concept in object-oriented programming (OOP) that refers to the ability to focus on\n",
    "essential features of an object and ignore the non-essential details. It's a process of hiding the implementation details \n",
    "from the user and only showing the necessary information. This helps to reduce complexity and improve the maintainability\n",
    "of the code. For example, consider a car object in an OOP program. The abstraction of a car object would only show its\n",
    "properties, such as color, number of wheels, and fuel type, and hide the internal details, such as the engine specifications,\n",
    "transmission system, and the like. From the user's perspective, all they need to know is how to drive the car, start the \n",
    "engine, and stop it. They do not need to know how the engine works.'''\n",
    "\n",
    "\n",
    "# example\n",
    "\n",
    "'''In this example, the Shape class is an abstract base class that is defined by inheriting from the ABC class. The area\n",
    "method in the Shape class is declared as an abstract method using the abstractmethod decorator. This means that the Shape\n",
    "class cannot be instantiated and must be subclassed.'''\n",
    "\n",
    "from abc import ABC, abstractmethod\n",
    "\n",
    "class Shape(ABC):\n",
    "    @abstractmethod\n",
    "    def area(self):\n",
    "        pass\n",
    "\n",
    "class Circle(Shape):\n",
    "    def __init__(self, radius):\n",
    "        self.radius = radius\n",
    "\n",
    "    def area(self):\n",
    "        return 3.14 * (self.radius ** 2)\n",
    "\n",
    "class Rectangle(Shape):\n",
    "    def __init__(self, length, width):\n",
    "        self.length = length\n",
    "        self.width = width\n",
    "\n",
    "    def area(self):\n",
    "        return self.length * self.width\n",
    "\n",
    "circle = Circle(10)\n",
    "rectangle = Rectangle(20, 30)\n",
    "\n",
    "print(\"Circle area:\", circle.area())\n",
    "print(\"Rectangle area:\", rectangle.area())\n",
    "\n"
   ]
  },
  {
   "cell_type": "raw",
   "id": "7a67b2e6-dde1-4195-af9c-f1524d65215b",
   "metadata": {},
   "source": [
    "Q2\n",
    "\n",
    "Abstraction is the process of hiding the implementation details of an object and exposing only the necessary information to\n",
    "the user. This helps to reduce complexity and improve the maintainability of the code.\n",
    "\n",
    "Encapsulation, on the other hand, refers to the bundling of data and methods that operate on that data within a single unit,\n",
    "or object. It is a way of protecting the data from outside interference and misuse. In encapsulation, the internal \n",
    "representation of an object is hidden from the outside world, and only a public interface, or set of methods, is exposed to \n",
    "interact with the object.\n",
    "\n",
    "For example, consider a bank account object in an OOP program. Abstraction would hide the internal details of the bank \n",
    "account, such as the calculation of the account balance, and only expose the necessary information, such as the account \n",
    "balance and the deposit and withdrawal methods. Encapsulation would protect the account balance by hiding it behind the \n",
    "deposit and withdrawal methods, so that it can only be updated through those methods and not directly modified by other \n",
    "parts of the code."
   ]
  },
  {
   "cell_type": "raw",
   "id": "54e5668a-ce9a-4d30-ab95-87c5b5ed9e9e",
   "metadata": {},
   "source": [
    "Q3\n",
    "\n",
    "The abc (Abstract Base Class) module in Python is a module that provides the infrastructure for defining abstract base \n",
    "classes (ABCs). An abstract base class is a class that cannot be instantiated but can be subclassed. An ABC provides a \n",
    "common interface for a set of implementations, so that those implementations can be used interchangeably.\n",
    "\n",
    "The main purpose of using ABCs is to define a common interface for a set of related objects. This allows the code to be\n",
    "written in a more flexible and maintainable way, because it can operate on objects that have a common interface, regardless \n",
    "of the specific implementation details of those objects.\n",
    "\n",
    "For example, consider a program that works with different shapes, such as circles, squares, and triangles. One way to define\n",
    "the different shapes is to create a separate class for each shape and define the common methods, such as area and perimeter,\n",
    "in each class. However, this approach can lead to a lot of duplicated code and make the program difficult to maintain."
   ]
  },
  {
   "cell_type": "code",
   "execution_count": null,
   "id": "b74ea753-57a0-4a24-9f83-7e9dbf35f456",
   "metadata": {},
   "outputs": [],
   "source": [
    "Q"
   ]
  }
 ],
 "metadata": {
  "kernelspec": {
   "display_name": "Python 3 (ipykernel)",
   "language": "python",
   "name": "python3"
  },
  "language_info": {
   "codemirror_mode": {
    "name": "ipython",
    "version": 3
   },
   "file_extension": ".py",
   "mimetype": "text/x-python",
   "name": "python",
   "nbconvert_exporter": "python",
   "pygments_lexer": "ipython3",
   "version": "3.10.8"
  }
 },
 "nbformat": 4,
 "nbformat_minor": 5
}
