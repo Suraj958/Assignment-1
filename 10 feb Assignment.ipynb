{
 "cells": [
  {
   "cell_type": "code",
   "execution_count": 7,
   "id": "e6bfae18-465c-4fbf-b787-b85e5215ced7",
   "metadata": {},
   "outputs": [
    {
     "ename": "FileNotFoundError",
     "evalue": "[Errno 2] No such file or directory: 'file.txt'",
     "output_type": "error",
     "traceback": [
      "\u001b[0;31m---------------------------------------------------------------------------\u001b[0m",
      "\u001b[0;31mFileNotFoundError\u001b[0m                         Traceback (most recent call last)",
      "Cell \u001b[0;32mIn[7], line 3\u001b[0m\n\u001b[1;32m      1\u001b[0m \u001b[38;5;66;03m# Q1\u001b[39;00m\n\u001b[1;32m      2\u001b[0m \u001b[38;5;66;03m#For example, to open a file in read-only mode, you would use the following code:\u001b[39;00m\n\u001b[0;32m----> 3\u001b[0m f \u001b[38;5;241m=\u001b[39m \u001b[38;5;28;43mopen\u001b[39;49m\u001b[43m(\u001b[49m\u001b[38;5;124;43m'\u001b[39;49m\u001b[38;5;124;43mfile.txt\u001b[39;49m\u001b[38;5;124;43m'\u001b[39;49m\u001b[43m,\u001b[49m\u001b[43m \u001b[49m\u001b[38;5;124;43m'\u001b[39;49m\u001b[38;5;124;43mr\u001b[39;49m\u001b[38;5;124;43m'\u001b[39;49m\u001b[43m)\u001b[49m\n\u001b[1;32m      4\u001b[0m \u001b[38;5;66;03m#And to open a file in write mode, you would use the following code:\u001b[39;00m\n\u001b[1;32m      5\u001b[0m f \u001b[38;5;241m=\u001b[39m \u001b[38;5;28mopen\u001b[39m(\u001b[38;5;124m'\u001b[39m\u001b[38;5;124mfile.txt\u001b[39m\u001b[38;5;124m'\u001b[39m, \u001b[38;5;124m'\u001b[39m\u001b[38;5;124mw\u001b[39m\u001b[38;5;124m'\u001b[39m)\n",
      "File \u001b[0;32m/opt/conda/lib/python3.10/site-packages/IPython/core/interactiveshell.py:282\u001b[0m, in \u001b[0;36m_modified_open\u001b[0;34m(file, *args, **kwargs)\u001b[0m\n\u001b[1;32m    275\u001b[0m \u001b[38;5;28;01mif\u001b[39;00m file \u001b[38;5;129;01min\u001b[39;00m {\u001b[38;5;241m0\u001b[39m, \u001b[38;5;241m1\u001b[39m, \u001b[38;5;241m2\u001b[39m}:\n\u001b[1;32m    276\u001b[0m     \u001b[38;5;28;01mraise\u001b[39;00m \u001b[38;5;167;01mValueError\u001b[39;00m(\n\u001b[1;32m    277\u001b[0m         \u001b[38;5;124mf\u001b[39m\u001b[38;5;124m\"\u001b[39m\u001b[38;5;124mIPython won\u001b[39m\u001b[38;5;124m'\u001b[39m\u001b[38;5;124mt let you open fd=\u001b[39m\u001b[38;5;132;01m{\u001b[39;00mfile\u001b[38;5;132;01m}\u001b[39;00m\u001b[38;5;124m by default \u001b[39m\u001b[38;5;124m\"\u001b[39m\n\u001b[1;32m    278\u001b[0m         \u001b[38;5;124m\"\u001b[39m\u001b[38;5;124mas it is likely to crash IPython. If you know what you are doing, \u001b[39m\u001b[38;5;124m\"\u001b[39m\n\u001b[1;32m    279\u001b[0m         \u001b[38;5;124m\"\u001b[39m\u001b[38;5;124myou can use builtins\u001b[39m\u001b[38;5;124m'\u001b[39m\u001b[38;5;124m open.\u001b[39m\u001b[38;5;124m\"\u001b[39m\n\u001b[1;32m    280\u001b[0m     )\n\u001b[0;32m--> 282\u001b[0m \u001b[38;5;28;01mreturn\u001b[39;00m \u001b[43mio_open\u001b[49m\u001b[43m(\u001b[49m\u001b[43mfile\u001b[49m\u001b[43m,\u001b[49m\u001b[43m \u001b[49m\u001b[38;5;241;43m*\u001b[39;49m\u001b[43margs\u001b[49m\u001b[43m,\u001b[49m\u001b[43m \u001b[49m\u001b[38;5;241;43m*\u001b[39;49m\u001b[38;5;241;43m*\u001b[39;49m\u001b[43mkwargs\u001b[49m\u001b[43m)\u001b[49m\n",
      "\u001b[0;31mFileNotFoundError\u001b[0m: [Errno 2] No such file or directory: 'file.txt'"
     ]
    }
   ],
   "source": [
    "# Q1\n",
    "#For example, to open a file in read-only mode, you would use the following code:\n",
    "f = open('file.txt', 'r')\n",
    "#And to open a file in write mode, you would use the following code:\n",
    "f = open('file.txt', 'w')"
   ]
  },
  {
   "cell_type": "code",
   "execution_count": 8,
   "id": "b656f58a-ab56-4644-b218-246df1f91e36",
   "metadata": {},
   "outputs": [
    {
     "data": {
      "text/plain": [
       "\" The close() function is used to close an open file in Python. When you are done reading from or writing to a file, you need to\\nclose it so that the operating system can release any resources associated with the file and so that other programs can access\\nthe file.\\n\\nClosing a file is important for several reasons:\\n\\n1 Releases resources: When a file is open, the operating system allocates resources, such as memory, to the file. If the file \\nis not closed, those resources remain allocated even after you have finished using the file. Closing the file releases those \\nresources back to the operating system.\\n\\n2 Prevents data loss: If a file is not closed properly, the contents of the file may not be flushed to disk. This means that \\nany changes you made to the file may be lost if the program terminates or the system crashes.\\n\\n3 Ensures data integrity: If multiple programs are trying to access the same file at the same time, it's possible that the \\ndata in the file may become corrupted. Closing a file ensures that the data in the file is consistent and that any changes\\nare saved properly.\\n\\n4 Increases system performance: If too many files are open at the same time, the system can become slow and unresponsive.\\nClosing files when they are no longer needed helps to keep the number of open files to a minimum, which can improve system \\nperformance. \""
      ]
     },
     "execution_count": 8,
     "metadata": {},
     "output_type": "execute_result"
    }
   ],
   "source": [
    "# Q2\n",
    "''' The close() function is used to close an open file in Python. When you are done reading from or writing to a file, you need to\n",
    "close it so that the operating system can release any resources associated with the file and so that other programs can access\n",
    "the file.\n",
    "\n",
    "Closing a file is important for several reasons:\n",
    "\n",
    "1 Releases resources: When a file is open, the operating system allocates resources, such as memory, to the file. If the file \n",
    "is not closed, those resources remain allocated even after you have finished using the file. Closing the file releases those \n",
    "resources back to the operating system.\n",
    "\n",
    "2 Prevents data loss: If a file is not closed properly, the contents of the file may not be flushed to disk. This means that \n",
    "any changes you made to the file may be lost if the program terminates or the system crashes.\n",
    "\n",
    "3 Ensures data integrity: If multiple programs are trying to access the same file at the same time, it's possible that the \n",
    "data in the file may become corrupted. Closing a file ensures that the data in the file is consistent and that any changes\n",
    "are saved properly.\n",
    "\n",
    "4 Increases system performance: If too many files are open at the same time, the system can become slow and unresponsive.\n",
    "Closing files when they are no longer needed helps to keep the number of open files to a minimum, which can improve system \n",
    "performance. '''"
   ]
  },
  {
   "cell_type": "code",
   "execution_count": 9,
   "id": "3679a141-246d-43b8-beae-503e49f6c07e",
   "metadata": {},
   "outputs": [
    {
     "name": "stdout",
     "output_type": "stream",
     "text": [
      "I want to become a Data Scientist\n"
     ]
    }
   ],
   "source": [
    "# Q3\n",
    "# Open the file in write mode\n",
    "with open(\"file.txt\", \"w\") as f:\n",
    "    # Write the text to the file\n",
    "    f.write(\"I want to become a Data Scientist\")\n",
    "\n",
    "# The file is automatically closed when you exit the with block\n",
    "\n",
    "# Open the file in read mode\n",
    "with open(\"file.txt\", \"r\") as f:\n",
    "    # Read the contents of the file\n",
    "    content = f.read()\n",
    "    print(content)\n"
   ]
  },
  {
   "cell_type": "code",
   "execution_count": 11,
   "id": "7ed6a3a1-181f-4044-b9c5-a1a3ccd5028d",
   "metadata": {},
   "outputs": [
    {
     "name": "stdout",
     "output_type": "stream",
     "text": [
      "I want to become a Data Scientist\n",
      "I want to become a Data Scientist\n",
      "I want to become a Data Scientist\n"
     ]
    }
   ],
   "source": [
    "# Q4\n",
    "\"\"\"\n",
    "The read(), readline(), and readlines() methods are used to read the contents of a file in Python.\n",
    "\n",
    "1)read(): The read() method reads the entire contents of a file and returns it as a single string. Here's an example:\n",
    "\"\"\"\n",
    "with open(\"file.txt\", \"r\") as f:\n",
    "    content = f.read()\n",
    "    print(content)\n",
    "\"\"\"\n",
    "2)readline(): The readline() method reads a single line from the file and returns it as a string. Here's an example:\n",
    "\"\"\"\n",
    "with open(\"file.txt\", \"r\") as f:\n",
    "    line = f.readline()\n",
    "    while line:\n",
    "        print(line)\n",
    "        line = f.readline()\n",
    "\"\"\"\n",
    "3)readlines(): The readlines() method reads all the lines of a file and returns them as a list of strings, where each string represents a single line. Here's an example:\n",
    "\"\"\"\n",
    "with open(\"file.txt\", \"r\") as f:\n",
    "    lines = f.readlines()\n",
    "    for line in lines:\n",
    "        print(line)"
   ]
  },
  {
   "cell_type": "code",
   "execution_count": 12,
   "id": "901ea981-dc27-42ff-957a-ecc19812990a",
   "metadata": {},
   "outputs": [
    {
     "data": {
      "text/plain": [
       "'The with statement is used with open() in Python to handle file I/O operations. The advantage of using the with statement\\nwith open() is that it ensures that the file is properly closed after the block inside the with statement is executed. The \\nwith statement provides a way for the file object to be automatically closed at the end of the block.\\n\\n\\nThe advantage of using with and open() together is that it eliminates the need for the programmer to explicitly close the\\nfile. If a file is not closed properly, it can result in data corruption or loss. Using the with statement ensures that the\\nfile is always closed properly, even if there is an error or exception that occurs inside the block.'"
      ]
     },
     "execution_count": 12,
     "metadata": {},
     "output_type": "execute_result"
    }
   ],
   "source": [
    "# Q5\n",
    "'''The with statement is used with open() in Python to handle file I/O operations. The advantage of using the with statement\n",
    "with open() is that it ensures that the file is properly closed after the block inside the with statement is executed. The \n",
    "with statement provides a way for the file object to be automatically closed at the end of the block.\n",
    "\n",
    "\n",
    "The advantage of using with and open() together is that it eliminates the need for the programmer to explicitly close the\n",
    "file. If a file is not closed properly, it can result in data corruption or loss. Using the with statement ensures that the\n",
    "file is always closed properly, even if there is an error or exception that occurs inside the block.'''"
   ]
  },
  {
   "cell_type": "code",
   "execution_count": 16,
   "id": "d25cc4fd-93fa-4a15-96b5-cfa8f0252301",
   "metadata": {},
   "outputs": [],
   "source": [
    "# Q6\n",
    "\"\"\"\n",
    "The write() and writelines() functions are used to write data to a file in Python.\n",
    "\n",
    "1)write(): The write() function writes a string to the file. It takes a single string argument and writes it to the file. \n",
    "Here's an example:\n",
    "\"\"\"\n",
    "with open(\"file.txt\", \"w\") as f:\n",
    "    f.write(\"I want to become a Data Scientist\")\n",
    "\"\"\"\n",
    "2)writelines(): The writelines() function writes a sequence of strings to the file. It takes a list of strings as an argument\n",
    "and writes each string to a separate line in the file. Here's an example:\n",
    "\"\"\"\n",
    "lines = [\"Line 1\", \"Line 2\", \"Line 3\"]\n",
    "with open(\"file.txt\", \"w\") as f:\n",
    "    f.writelines(lines)\n",
    " "
   ]
  },
  {
   "cell_type": "code",
   "execution_count": null,
   "id": "ed190bf9-ae79-4a82-92dd-b643826bb89d",
   "metadata": {},
   "outputs": [],
   "source": []
  }
 ],
 "metadata": {
  "kernelspec": {
   "display_name": "Python 3 (ipykernel)",
   "language": "python",
   "name": "python3"
  },
  "language_info": {
   "codemirror_mode": {
    "name": "ipython",
    "version": 3
   },
   "file_extension": ".py",
   "mimetype": "text/x-python",
   "name": "python",
   "nbconvert_exporter": "python",
   "pygments_lexer": "ipython3",
   "version": "3.10.8"
  }
 },
 "nbformat": 4,
 "nbformat_minor": 5
}
