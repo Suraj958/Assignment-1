{
 "cells": [
  {
   "cell_type": "code",
   "execution_count": null,
   "id": "99410f5c-0aa4-481e-a2bf-646be8d3deea",
   "metadata": {},
   "outputs": [],
   "source": [
    "# Q1\n",
    "def check_password(password):\n",
    "    # Check length of password\n",
    "    if len(password) < 10:\n",
    "        return \"Invalid Password\"\n",
    "\n",
    "    # Check presence of at least two uppercase letters\n",
    "    upper_count = sum(c.isupper() for c in password)\n",
    "    if upper_count < 2:\n",
    "        return \"Invalid Password\"\n",
    "\n",
    "    # Check presence of at least two lowercase letters\n",
    "    lower_count = sum(c.islower() for c in password)\n",
    "    if lower_count < 2:\n",
    "        return \"Invalid Password\"\n",
    "\n",
    "    # Check presence of at least one number\n",
    "    if not any(c.isdigit() for c in password):\n",
    "        return \"Invalid Password\"\n",
    "\n",
    "    # Check presence of at least three special characters\n",
    "    special_count = sum(not c.isalnum() for c in password)\n",
    "    if special_count < 3:\n",
    "        return \"Invalid Password\"\n",
    "\n",
    "    # Password meets all requirements\n",
    "    return \"Valid Password\"\n",
    "pass1 = input(\"Password:\")\n",
    "print(check_password(pass1))"
   ]
  },
  {
   "cell_type": "code",
   "execution_count": 13,
   "id": "173771a1-1012-4664-b329-36574b8e6f74",
   "metadata": {},
   "outputs": [
    {
     "name": "stdout",
     "output_type": "stream",
     "text": [
      "True\n"
     ]
    }
   ],
   "source": [
    "# Q2\n",
    "# a\n",
    "starts_with_letter = lambda x, letter: x.startswith(letter)\n",
    "print(starts_with_letter(\"Hello\", \"H\"))\n",
    "\n"
   ]
  },
  {
   "cell_type": "code",
   "execution_count": 14,
   "id": "6dbf1110-b161-41fe-841e-b64c32ad4d1a",
   "metadata": {},
   "outputs": [
    {
     "name": "stdout",
     "output_type": "stream",
     "text": [
      "True\n"
     ]
    }
   ],
   "source": [
    "# b\n",
    "is_num = lambda x: x.isnumeric()\n",
    "print(is_num(\"123\"))\n"
   ]
  },
  {
   "cell_type": "code",
   "execution_count": 15,
   "id": "ebd8b536-946d-4387-b3e4-831556bfc1f1",
   "metadata": {},
   "outputs": [
    {
     "name": "stdout",
     "output_type": "stream",
     "text": [
      "[('orange', 80), ('mango', 99), ('grapes', 1000)]\n"
     ]
    }
   ],
   "source": [
    "# c\n",
    "fruits = [(\"mango\", 99), (\"orange\", 80), (\"grapes\", 1000)]\n",
    "sorted_fruits = sorted(fruits, key=lambda x: x[1])\n",
    "print(sorted_fruits)"
   ]
  },
  {
   "cell_type": "code",
   "execution_count": 17,
   "id": "145f4ae9-173f-450a-83b8-1ccf2d457da1",
   "metadata": {},
   "outputs": [
    {
     "name": "stdout",
     "output_type": "stream",
     "text": [
      "[1, 4, 9, 16, 25, 36, 49, 64, 81, 100]\n"
     ]
    }
   ],
   "source": [
    "# d\n",
    "sq = [x**2 for x in range(1, 11)]\n",
    "print(sq)"
   ]
  },
  {
   "cell_type": "code",
   "execution_count": 21,
   "id": "6222c36a-0554-4c1f-b536-94f716172440",
   "metadata": {},
   "outputs": [
    {
     "name": "stdout",
     "output_type": "stream",
     "text": [
      "[1.0, 1.2599210498948732, 1.4422495703074083, 1.5874010519681994, 1.7099759466766968, 1.8171205928321397, 1.912931182772389, 2.0, 2.080083823051904, 2.154434690031884]\n"
     ]
    }
   ],
   "source": [
    "# e\n",
    "cube=[x**(1/3) for x in range(1,11)]\n",
    "print(cube)"
   ]
  },
  {
   "cell_type": "code",
   "execution_count": 23,
   "id": "68493bdf-9e2e-4acb-85b6-a0e5cd157246",
   "metadata": {},
   "outputs": [
    {
     "name": "stdout",
     "output_type": "stream",
     "text": [
      "True\n"
     ]
    }
   ],
   "source": [
    "# f\n",
    "is_even = lambda x: x % 2 == 0\n",
    "print(is_even(8))"
   ]
  },
  {
   "cell_type": "code",
   "execution_count": 24,
   "id": "19a1f34a-0942-4d7e-a82a-c70693bb1f3d",
   "metadata": {},
   "outputs": [
    {
     "name": "stdout",
     "output_type": "stream",
     "text": [
      "[1, 3, 5, 7, 9]\n"
     ]
    }
   ],
   "source": [
    "# g\n",
    "numbers = [1, 2, 3, 4, 5, 6, 7, 8, 9, 10]\n",
    "odd_numbers = list(filter(lambda x: x % 2 != 0, numbers))\n",
    "print(odd_numbers)"
   ]
  },
  {
   "cell_type": "code",
   "execution_count": 26,
   "id": "842d5d23-96a6-40e7-9d42-61a2a2d8fad7",
   "metadata": {},
   "outputs": [
    {
     "name": "stdout",
     "output_type": "stream",
     "text": [
      "[1, 2, 3, 4, 5, 6]\n",
      "[-1, -2, -3, -4, -5]\n"
     ]
    }
   ],
   "source": [
    "# h\n",
    "numbers = [1, 2, 3, 4, 5, 6, -1, -2, -3, -4, -5, 0]\n",
    "positive_numbers = list(filter(lambda x: x > 0, numbers))\n",
    "negative_numbers = list(filter(lambda x: x < 0, numbers))\n",
    "print(positive_numbers) \n",
    "print(negative_numbers)"
   ]
  },
  {
   "cell_type": "code",
   "execution_count": null,
   "id": "182fa0a5-4207-4984-a0ed-8a652a552c8d",
   "metadata": {},
   "outputs": [],
   "source": []
  }
 ],
 "metadata": {
  "kernelspec": {
   "display_name": "Python 3 (ipykernel)",
   "language": "python",
   "name": "python3"
  },
  "language_info": {
   "codemirror_mode": {
    "name": "ipython",
    "version": 3
   },
   "file_extension": ".py",
   "mimetype": "text/x-python",
   "name": "python",
   "nbconvert_exporter": "python",
   "pygments_lexer": "ipython3",
   "version": "3.10.8"
  }
 },
 "nbformat": 4,
 "nbformat_minor": 5
}
