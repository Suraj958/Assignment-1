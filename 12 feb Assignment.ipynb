{
 "cells": [
  {
   "cell_type": "code",
   "execution_count": 1,
   "id": "17fdb7e8-436d-46e6-82a9-43ad54807097",
   "metadata": {},
   "outputs": [
    {
     "data": {
      "text/plain": [
       "\"An exception in Python is an event, which occurs during the execution of a program that disrupts the normal flow of the \\nprogram's instructions. Exceptions are raised when a program encounters a runtime error, such as division by zero, accessing \\nan index that is out of range, or trying to open a file that does not exist.\\n\\nExceptions and syntax errors are two different types of errors in Python.\\n\\nA syntax error occurs when the code written is not valid according to the syntax rules of the language. For example, if you\\nforget to close a parenthesis, or if you use the wrong type of quotes in a string, Python will raise a syntax error. These \\nerrors are usually easy to spot and fix, as they prevent the code from running.\\n\\nAn exception, on the other hand, occurs when the code is syntactically correct but encounters an error during execution.\\nUnlike syntax errors, exceptions can be caught and handled using try-except blocks. This allows you to write code that can \\ngracefully handle runtime errors, making your code more robust and user-friendly.\""
      ]
     },
     "execution_count": 1,
     "metadata": {},
     "output_type": "execute_result"
    }
   ],
   "source": [
    "# Q1\n",
    "'''An exception in Python is an event, which occurs during the execution of a program that disrupts the normal flow of the \n",
    "program's instructions. Exceptions are raised when a program encounters a runtime error, such as division by zero, accessing \n",
    "an index that is out of range, or trying to open a file that does not exist.\n",
    "\n",
    "Exceptions and syntax errors are two different types of errors in Python.\n",
    "\n",
    "A syntax error occurs when the code written is not valid according to the syntax rules of the language. For example, if you\n",
    "forget to close a parenthesis, or if you use the wrong type of quotes in a string, Python will raise a syntax error. These \n",
    "errors are usually easy to spot and fix, as they prevent the code from running.\n",
    "\n",
    "An exception, on the other hand, occurs when the code is syntactically correct but encounters an error during execution.\n",
    "Unlike syntax errors, exceptions can be caught and handled using try-except blocks. This allows you to write code that can \n",
    "gracefully handle runtime errors, making your code more robust and user-friendly.'''"
   ]
  },
  {
   "cell_type": "code",
   "execution_count": 2,
   "id": "877c259e-e4be-40e9-a895-82667b8539f9",
   "metadata": {},
   "outputs": [
    {
     "name": "stdout",
     "output_type": "stream",
     "text": [
      "25.0\n",
      "Cannot divide by zero\n"
     ]
    }
   ],
   "source": [
    "# Q2\n",
    "'''When an exception is not handled, the program will stop executing immediately and raise an unhandled exception. The \n",
    "traceback of the error will be displayed, showing the line of code that caused the exception and the type of the exception.'''\n",
    "\n",
    "def divide(a, b):\n",
    "    try:\n",
    "        return a / b\n",
    "    except ZeroDivisionError:\n",
    "        return \"Cannot divide by zero\"\n",
    "\n",
    "print(divide(50, 2))\n",
    "print(divide(5, 0))"
   ]
  },
  {
   "cell_type": "code",
   "execution_count": 3,
   "id": "839b0547-c5ee-4ce6-8d19-69d595863cdc",
   "metadata": {},
   "outputs": [
    {
     "name": "stdout",
     "output_type": "stream",
     "text": [
      "25.0\n",
      "Cannot divide by zero\n"
     ]
    }
   ],
   "source": [
    "# Q3\n",
    "'''In Python, the try and except statements are used to catch and handle exceptions. For example, consider the following code:'''\n",
    "\n",
    "def divide(a, b):\n",
    "    try:\n",
    "        return a / b\n",
    "    except ZeroDivisionError:\n",
    "        return \"Cannot divide by zero\"\n",
    "\n",
    "print(divide(50, 2))\n",
    "print(divide(5, 0))"
   ]
  },
  {
   "cell_type": "code",
   "execution_count": 4,
   "id": "afc085c5-62d1-4891-9d3e-21c3d6ab5eaa",
   "metadata": {},
   "outputs": [
    {
     "name": "stdout",
     "output_type": "stream",
     "text": [
      "2.5\n",
      "Cannot divide by zero\n",
      "The operation has completed.\n",
      "2.5\n",
      "The operation has completed.\n",
      "Cannot divide by zero\n",
      "5\n"
     ]
    },
    {
     "ename": "ValueError",
     "evalue": "The value is negative",
     "output_type": "error",
     "traceback": [
      "\u001b[0;31m---------------------------------------------------------------------------\u001b[0m",
      "\u001b[0;31mValueError\u001b[0m                                Traceback (most recent call last)",
      "Cell \u001b[0;32mIn[4], line 44\u001b[0m\n\u001b[1;32m     41\u001b[0m     \u001b[38;5;28;01mreturn\u001b[39;00m n\n\u001b[1;32m     43\u001b[0m \u001b[38;5;28mprint\u001b[39m(positive_number(\u001b[38;5;241m5\u001b[39m))\n\u001b[0;32m---> 44\u001b[0m \u001b[38;5;28mprint\u001b[39m(\u001b[43mpositive_number\u001b[49m\u001b[43m(\u001b[49m\u001b[38;5;241;43m-\u001b[39;49m\u001b[38;5;241;43m5\u001b[39;49m\u001b[43m)\u001b[49m)\n",
      "Cell \u001b[0;32mIn[4], line 40\u001b[0m, in \u001b[0;36mpositive_number\u001b[0;34m(n)\u001b[0m\n\u001b[1;32m     38\u001b[0m \u001b[38;5;28;01mdef\u001b[39;00m \u001b[38;5;21mpositive_number\u001b[39m(n):\n\u001b[1;32m     39\u001b[0m     \u001b[38;5;28;01mif\u001b[39;00m n \u001b[38;5;241m<\u001b[39m \u001b[38;5;241m0\u001b[39m:\n\u001b[0;32m---> 40\u001b[0m         \u001b[38;5;28;01mraise\u001b[39;00m \u001b[38;5;167;01mValueError\u001b[39;00m(\u001b[38;5;124m\"\u001b[39m\u001b[38;5;124mThe value is negative\u001b[39m\u001b[38;5;124m\"\u001b[39m)\n\u001b[1;32m     41\u001b[0m     \u001b[38;5;28;01mreturn\u001b[39;00m n\n",
      "\u001b[0;31mValueError\u001b[0m: The value is negative"
     ]
    }
   ],
   "source": [
    "# Q4\n",
    "\"\"\"\n",
    "(a) We can use the try, except, else, and finally statements to handle exceptions. The try and except statements work as\n",
    "described in the previous answer, but the else and finally statements provide additional functionality.\n",
    "\n",
    "The else block is executed if no exception is raised in the try block. \n",
    "For example:\n",
    "\"\"\"\n",
    "def divide(a, b):\n",
    "    try:\n",
    "        result = a / b\n",
    "    except ZeroDivisionError:\n",
    "        return \"Cannot divide by zero\"\n",
    "    else:\n",
    "        return result\n",
    "\n",
    "print(divide(5, 2))\n",
    "print(divide(5, 0))\n",
    "\"\"\"\n",
    "(b) The finally block is executed regardless of whether an exception was raised or not. For example:\n",
    "\"\"\"\n",
    "def divide(a, b):\n",
    "    try:\n",
    "        result = a / b\n",
    "    except ZeroDivisionError:\n",
    "        return \"Cannot divide by zero\"\n",
    "    else:\n",
    "        return result\n",
    "    finally:\n",
    "        print(\"The operation has completed.\")\n",
    "\n",
    "print(divide(5, 2))\n",
    "print(divide(5, 0))\n",
    "\"\"\"\n",
    "(c) We can raise an exception using the raise statement. This allows you to signal that an error has occurred and stop the \n",
    "normal execution of your program. For example:\n",
    "\"\"\"\n",
    "def positive_number(n):\n",
    "    if n < 0:\n",
    "        raise ValueError(\"The value is negative\")\n",
    "    return n\n",
    "\n",
    "print(positive_number(5))\n",
    "print(positive_number(-5))"
   ]
  },
  {
   "cell_type": "code",
   "execution_count": null,
   "id": "7c49c405-a348-454c-9163-3e2a96a3d663",
   "metadata": {},
   "outputs": [],
   "source": []
  }
 ],
 "metadata": {
  "kernelspec": {
   "display_name": "Python 3 (ipykernel)",
   "language": "python",
   "name": "python3"
  },
  "language_info": {
   "codemirror_mode": {
    "name": "ipython",
    "version": 3
   },
   "file_extension": ".py",
   "mimetype": "text/x-python",
   "name": "python",
   "nbconvert_exporter": "python",
   "pygments_lexer": "ipython3",
   "version": "3.10.8"
  }
 },
 "nbformat": 4,
 "nbformat_minor": 5
}
