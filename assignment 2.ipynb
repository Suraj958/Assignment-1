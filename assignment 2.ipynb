{
 "cells": [
  {
   "cell_type": "code",
   "execution_count": 1,
   "id": "dddabced-9190-4575-8525-b71ff80dfbc9",
   "metadata": {},
   "outputs": [
    {
     "name": "stdin",
     "output_type": "stream",
     "text": [
      "Enter percentage: 95\n"
     ]
    },
    {
     "name": "stdout",
     "output_type": "stream",
     "text": [
      "Grade A\n"
     ]
    }
   ],
   "source": [
    "# Q1 \n",
    "marks=int(input(\"Enter percentage:\"))\n",
    "if(marks>100 or marks<0):\n",
    "    print(\"Enter the valid marks\")\n",
    "elif(marks>90):\n",
    "    print(\"Grade A\")\n",
    "elif(marks>80 and marks<=90):\n",
    "    print(\"Grade B\")\n",
    "elif(marks>=60 and marks<=80):\n",
    "    print(\"Grade C\")\n",
    "else:\n",
    "    print(\"Grade D\")\n"
   ]
  },
  {
   "cell_type": "code",
   "execution_count": 2,
   "id": "6c4cf4da-473f-4eb3-bc84-1a43de6e79cb",
   "metadata": {},
   "outputs": [
    {
     "name": "stdin",
     "output_type": "stream",
     "text": [
      "enter the price of bike 50000\n"
     ]
    },
    {
     "name": "stdout",
     "output_type": "stream",
     "text": [
      "the tax is 2500.0\n"
     ]
    }
   ],
   "source": [
    "# Q2\n",
    "price=int(input(\"enter the price of bike\"))\n",
    "tax=0.0\n",
    "if(price>100000):\n",
    "    tax=price*0.15\n",
    "    print('the tax is', tax)\n",
    "elif(price>50000 and price<=100000):\n",
    "    tax=price*0.10\n",
    "    print('the tax is', tax)\n",
    "elif(price<=50000):\n",
    "    tax=price*0.05\n",
    "    print('the tax is', tax)"
   ]
  },
  {
   "cell_type": "code",
   "execution_count": 3,
   "id": "e24ba279-8852-4f36-9cde-6adb6c537d5a",
   "metadata": {},
   "outputs": [
    {
     "name": "stdin",
     "output_type": "stream",
     "text": [
      "enter the city :  delhi\n"
     ]
    },
    {
     "name": "stdout",
     "output_type": "stream",
     "text": [
      "the monument is Red Fort\n"
     ]
    }
   ],
   "source": [
    "# Q3\n",
    "city=input('enter the city : ')\n",
    "if(city=='delhi'):\n",
    "    print('the monument is Red Fort')\n",
    "elif(city=='agra'):\n",
    "     print('the monument is Taj Mahal')\n",
    "elif(city=='jaipur'):\n",
    "     print('the monument is Jal Mahal')\n",
    "else:\n",
    "    print('invalid option')\n"
   ]
  },
  {
   "cell_type": "code",
   "execution_count": 2,
   "id": "8fd7bac4-5984-4098-82c0-95a0c0b7a4b4",
   "metadata": {},
   "outputs": [
    {
     "name": "stdin",
     "output_type": "stream",
     "text": [
      "Enter a number: 15\n"
     ]
    },
    {
     "name": "stdout",
     "output_type": "stream",
     "text": [
      "The number is divisible by 3 total 1 times before it becomes less than or equal to 10\n"
     ]
    }
   ],
   "source": [
    "# Q4\n",
    "num=int(input(\"Enter a number:\"))\n",
    "count=0\n",
    "while num>=10:\n",
    "    if num%3==0:\n",
    "        count+=1\n",
    "        num=num/3\n",
    "    else:\n",
    "        break\n",
    "print(\"The number is divisible by 3 total\",count,\"times before it becomes less than or equal to 10\")"
   ]
  },
  {
   "cell_type": "code",
   "execution_count": 14,
   "id": "c5766e43-f52a-48f7-bb6d-d09d0725c327",
   "metadata": {},
   "outputs": [
    {
     "name": "stdout",
     "output_type": "stream",
     "text": [
      "1\n",
      "2\n",
      "3\n",
      "4\n",
      "5\n"
     ]
    }
   ],
   "source": [
    "# Q5\n",
    "''' While Loop is used to execute a block of statements repeatedly until a given condition is satisfied.\n",
    "     when the condition becomes false, the line immediately after the loop in the program is executed. \n",
    "     \n",
    "     Syntax: \n",
    "\n",
    "while condition:\n",
    "    statement(s) '''\n",
    "i = 1\n",
    "n = 5\n",
    "while i <= n:\n",
    "    print(i)\n",
    "    i = i + 1"
   ]
  },
  {
   "cell_type": "code",
   "execution_count": 15,
   "id": "8336a15b-5cf2-44ec-a405-12d4695193f6",
   "metadata": {},
   "outputs": [
    {
     "name": "stdout",
     "output_type": "stream",
     "text": [
      "\n",
      "Pattern 1\n",
      "*\n",
      "**\n",
      "***\n",
      "****\n",
      "*****\n",
      "\n",
      "Pattern 2\n",
      "******\n",
      "*****\n",
      "****\n",
      "***\n",
      "**\n",
      "*\n",
      "\n",
      "Pattern 3\n",
      "1\n",
      "12\n",
      "123\n",
      "1234\n",
      "12345\n"
     ]
    }
   ],
   "source": [
    "# Q6\n",
    "print(\"\\nPattern 1\")\n",
    "i=1\n",
    "while i<=5:\n",
    "    j=1\n",
    "    while j<=i:\n",
    "        print(\"*\",end=\"\")\n",
    "        j+=1\n",
    "    print()\n",
    "    i+=1\n",
    "print(\"\\nPattern 2\")\n",
    "while i>=1:\n",
    "    j=1\n",
    "    while j<=i:\n",
    "        print(\"*\",end=\"\")\n",
    "        j+=1\n",
    "    print()\n",
    "    i-=1\n",
    "print(\"\\nPattern 3\")\n",
    "j=1\n",
    "while j<=5:\n",
    "    i=1\n",
    "    while i<=j:\n",
    "        print(i,end=\"\")\n",
    "        i+=1\n",
    "    print()\n",
    "    j+=1\n"
   ]
  },
  {
   "cell_type": "code",
   "execution_count": 16,
   "id": "ca8b6b2b-364b-43b5-803d-4f80c4f0ce07",
   "metadata": {},
   "outputs": [
    {
     "name": "stdout",
     "output_type": "stream",
     "text": [
      "10\n",
      "9\n",
      "8\n",
      "7\n",
      "6\n",
      "5\n",
      "4\n",
      "3\n",
      "2\n",
      "1\n"
     ]
    }
   ],
   "source": [
    "# Q7\n",
    "num = 10\n",
    "while num >= 1:\n",
    "    print(num)\n",
    "    num = num - 1"
   ]
  },
  {
   "cell_type": "code",
   "execution_count": 17,
   "id": "f9e027fe-6db1-4906-98c3-86ce4026794f",
   "metadata": {},
   "outputs": [
    {
     "name": "stdout",
     "output_type": "stream",
     "text": [
      "10 9 8 7 6 5 4 3 2 1 "
     ]
    }
   ],
   "source": [
    "# Q8\n",
    "num = 10\n",
    "while num >= 1:\n",
    "    print(num, end = \" \")\n",
    "    num = num - 1"
   ]
  }
 ],
 "metadata": {
  "kernelspec": {
   "display_name": "Python 3 (ipykernel)",
   "language": "python",
   "name": "python3"
  },
  "language_info": {
   "codemirror_mode": {
    "name": "ipython",
    "version": 3
   },
   "file_extension": ".py",
   "mimetype": "text/x-python",
   "name": "python",
   "nbconvert_exporter": "python",
   "pygments_lexer": "ipython3",
   "version": "3.10.8"
  }
 },
 "nbformat": 4,
 "nbformat_minor": 5
}
