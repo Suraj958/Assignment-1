{
 "cells": [
  {
   "cell_type": "code",
   "execution_count": 4,
   "id": "d2f1c253-f13a-45af-8c93-58703beb3e9f",
   "metadata": {},
   "outputs": [
    {
     "name": "stdout",
     "output_type": "stream",
     "text": [
      "example of for loop\n",
      "0\n",
      "1\n",
      "4\n",
      "9\n",
      "16\n",
      "25\n",
      "36\n",
      "same example of while loops\n",
      "0\n",
      "1\n",
      "4\n",
      "9\n",
      "16\n",
      "25\n",
      "36\n"
     ]
    }
   ],
   "source": [
    "# Q1\n",
    "'''A for loop is a control flow statement that executes code for a predefined number of iterations.\n",
    "The keyword used in this control flow statement is “for”.\n",
    "When the number of iterations is already known, the for loop is used.'''\n",
    "print('example of for loop')\n",
    "for i in range(7):\n",
    "    print(i**2)\n",
    "\n",
    "    \n",
    "'''A loop that runs a single statement or a set of statements for a given true condition.\n",
    "This loop is represented by the keywordwhile\n",
    "When the number of iterations is unknown, a while loop is used.'''\n",
    "print('same example of while loops')\n",
    "i=0\n",
    "while i < 7:\n",
    "    print(i**2)\n",
    "    i=i+1\n",
    "    "
   ]
  },
  {
   "cell_type": "code",
   "execution_count": 7,
   "id": "3f2fd972-23f5-4f01-ba04-028a5c7ad1ad",
   "metadata": {},
   "outputs": [
    {
     "name": "stdout",
     "output_type": "stream",
     "text": [
      "using for loop\n",
      "the sum of first 10 natural no. is 55\n",
      "the product of first 10 natural no. is 3628800\n",
      "\n",
      " using while loop\n",
      "the sum of first 10 natural no. is 55\n",
      "the product of first 10 natural no. is 3628800\n"
     ]
    }
   ],
   "source": [
    "# Q2 \n",
    "print('using for loop')\n",
    "sum=0\n",
    "product=1\n",
    "for i in range(1,11):\n",
    "    sum=sum+i\n",
    "    product=product*i\n",
    "print('the sum of first 10 natural no. is' ,sum)\n",
    "print('the product of first 10 natural no. is' ,product)\n",
    "print('\\n using while loop')\n",
    "count = 1\n",
    "sums = 0\n",
    "prod=1\n",
    "while count <= 10:\n",
    "    sums = sums + count\n",
    "    prod = prod * count\n",
    "    count=count+1\n",
    "print('the sum of first 10 natural no. is' ,sums)\n",
    "print('the product of first 10 natural no. is' ,prod)\n",
    " \n",
    "      \n"
   ]
  },
  {
   "cell_type": "code",
   "execution_count": 13,
   "id": "58230e17-7f93-4134-bd02-051264437346",
   "metadata": {},
   "outputs": [
    {
     "name": "stdin",
     "output_type": "stream",
     "text": [
      "enter the no. of units consumed 310\n"
     ]
    },
    {
     "name": "stdout",
     "output_type": "stream",
     "text": [
      "the total electricity bill will be Rs. 2250.0\n"
     ]
    }
   ],
   "source": [
    "# Q3\n",
    "units=int(input('enter the no. of units consumed'))\n",
    "if units <= 100:\n",
    "    charges=units*4.5\n",
    "elif units > 100 and units <= 200:\n",
    "    charges = (100*4.5)+((units-100)*6)\n",
    "elif units > 200 and units <= 300:\n",
    "    charges = (100 * 4.5) + (100 * 6) + ((units - 200) * 10)\n",
    "else:\n",
    "    charges = (100 * 4.5) + (100 * 6) + (100 * 10) + ((units - 300) * 20)\n",
    "\n",
    "print(\"the total electricity bill will be Rs.\", charges)\n",
    "\n",
    "    "
   ]
  },
  {
   "cell_type": "code",
   "execution_count": 28,
   "id": "ce3f3b57-5f54-485d-bfe9-ad499efd839b",
   "metadata": {},
   "outputs": [
    {
     "name": "stdout",
     "output_type": "stream",
     "text": [
      "[1, 2, 3, 4, 5, 6, 7, 8, 9, 10, 11, 12, 13, 14, 15, 16, 17, 18, 19, 20, 21, 22, 23, 24, 25, 26, 27, 28, 29, 30, 31, 32, 33, 34, 35, 36, 37, 38, 39, 40, 41, 42, 43, 44, 45, 46, 47, 48, 49, 50, 51, 52, 53, 54, 55, 56, 57, 58, 59, 60, 61, 62, 63, 64, 65, 66, 67, 68, 69, 70, 71, 72, 73, 74, 75, 76, 77, 78, 79, 80, 81, 82, 83, 84, 85, 86, 87, 88, 89, 90, 91, 92, 93, 94, 95, 96, 97, 98, 99, 100]\n",
      "using for loop\n",
      "the numbers whose cube is divisible by 4 or 5 is:  [2, 4, 5, 6, 8, 10, 12, 14, 15, 16, 18, 20, 22, 24, 25, 26, 28, 30, 32, 34, 35, 36, 38, 40, 42, 44, 45, 46, 48, 50, 52, 54, 55, 56, 58, 60, 62, 64, 65, 66, 68, 70, 72, 74, 75, 76, 78, 80, 82, 84, 85, 86, 88, 90, 92, 94, 95, 96, 98, 100]\n",
      "using while loop\n",
      "the numbers whose cube is divisible by 4 or 5 is:  [2, 4, 5, 6, 8, 10, 12, 14, 15, 16, 18, 20, 22, 24, 25, 26, 28, 30, 32, 34, 35, 36, 38, 40, 42, 44, 45, 46, 48, 50, 52, 54, 55, 56, 58, 60, 62, 64, 65, 66, 68, 70, 72, 74, 75, 76, 78, 80, 82, 84, 85, 86, 88, 90, 92, 94, 95, 96, 98, 100]\n"
     ]
    }
   ],
   "source": [
    "# Q4\n",
    "l=[i for i in range(1,101)]\n",
    "print(l)\n",
    "print('using for loop')\n",
    "l1=[]\n",
    "for i in l:\n",
    "    cube=i**3\n",
    "    if cube%4==0 or cube%5==0:\n",
    "        l1.append(i)\n",
    "print(\"the numbers whose cube is divisible by 4 or 5 is: \", l1)\n",
    "print('using while loop')\n",
    "l2=[]\n",
    "i=1\n",
    "while i<=100:\n",
    "    cube=i**3\n",
    "    if cube%4==0 or cube%5==0:\n",
    "        l2.append(i)\n",
    "    i=i+1\n",
    "print(\"the numbers whose cube is divisible by 4 or 5 is: \", l2)\n",
    "\n",
    "    \n",
    "\n"
   ]
  },
  {
   "cell_type": "code",
   "execution_count": 29,
   "id": "5f53bc0c-13d5-4cad-adcd-741e0e5cf11e",
   "metadata": {},
   "outputs": [
    {
     "name": "stdout",
     "output_type": "stream",
     "text": [
      "Number of vowels are: 12\n"
     ]
    }
   ],
   "source": [
    "# Q5\n",
    "string = \"I want to become a data scientist\"\n",
    "vowels=0\n",
    "for i in string:\n",
    "      if(i=='a' or i=='e' or i=='i' or i=='o' or i=='u' or i=='A' or i=='E' or i=='I' or i=='O' or i=='U'):\n",
    "            vowels=vowels+1\n",
    "print(\"Number of vowels are:\",vowels)"
   ]
  }
 ],
 "metadata": {
  "kernelspec": {
   "display_name": "Python 3 (ipykernel)",
   "language": "python",
   "name": "python3"
  },
  "language_info": {
   "codemirror_mode": {
    "name": "ipython",
    "version": 3
   },
   "file_extension": ".py",
   "mimetype": "text/x-python",
   "name": "python",
   "nbconvert_exporter": "python",
   "pygments_lexer": "ipython3",
   "version": "3.10.8"
  }
 },
 "nbformat": 4,
 "nbformat_minor": 5
}
