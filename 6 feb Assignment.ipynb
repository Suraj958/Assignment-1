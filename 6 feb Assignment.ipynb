{
 "cells": [
  {
   "cell_type": "code",
   "execution_count": 2,
   "id": "a0638323-46a3-42c3-ab91-25e19f984245",
   "metadata": {},
   "outputs": [
    {
     "name": "stdout",
     "output_type": "stream",
     "text": [
      "Product= 4134711838987085478833841242112000\n",
      "Flag_List= [1, 2, 3, 4, 44, 55, 66, 34, 56, 78, 89, 34, 1, 2, 3, 1, 34, 55, 67, 78, 89, 4, 45, 22, 61, 34, 56]\n"
     ]
    }
   ],
   "source": [
    "# Q1\n",
    "flat_list = []\n",
    "def product_of_numbers(list1):\n",
    "    for i in list1:\n",
    "        if type(i) == int or type(i) == float:\n",
    "            flat_list.append(i)\n",
    "        elif type(i) == tuple:\n",
    "            for j in i:\n",
    "                if type(j) == int or type(j) == float:\n",
    "                    flat_list.append(j)\n",
    "        elif type(i) == list:\n",
    "            for j in i:\n",
    "                if type(j) == int or type(j) == float:\n",
    "                    flat_list.append(j)\n",
    "        elif type(i) == set:\n",
    "            for j in i:\n",
    "                if type(j) == int or type(j) == float:\n",
    "                    flat_list.append(j)\n",
    "        elif type(i) == dict:\n",
    "            for key, value in i.items():\n",
    "                if type(key) == int or type(key) == float:\n",
    "                    flat_list.append(key)\n",
    "                if type(value) == int or type(value) == float:\n",
    "                    flat_list.append(value)\n",
    "                if type(value) == list:\n",
    "                    flat_list.extend(value)\n",
    "                if type(value) == tuple:\n",
    "                    flat_list.extend(list(value))\n",
    "    prod = 1\n",
    "    for num in flat_list:\n",
    "        if type(num) == int or type(num) == float:\n",
    "            prod *= num\n",
    "    return prod\n",
    "\n",
    "list1 = [1, 2, 3, 4, [44, 55, 66, True], False, (34, 56, 78, 89, 34), {1, 2, 3, 3, 2, 1}, {1: 34, \"key2\": [55, 67, 78, 89], 4: (45, 22, 61, 34)}, [56, 'data science'], 'Machine Learning']\n",
    "print(\"Product=\",product_of_numbers(list1))\n",
    "print(\"Flag_List=\",flat_list)"
   ]
  },
  {
   "cell_type": "code",
   "execution_count": null,
   "id": "110d82e9-7adb-4c4d-a3c4-7ac8128cb908",
   "metadata": {},
   "outputs": [],
   "source": [
    "# Q2\n"
   ]
  }
 ],
 "metadata": {
  "kernelspec": {
   "display_name": "Python 3 (ipykernel)",
   "language": "python",
   "name": "python3"
  },
  "language_info": {
   "codemirror_mode": {
    "name": "ipython",
    "version": 3
   },
   "file_extension": ".py",
   "mimetype": "text/x-python",
   "name": "python",
   "nbconvert_exporter": "python",
   "pygments_lexer": "ipython3",
   "version": "3.10.8"
  }
 },
 "nbformat": 4,
 "nbformat_minor": 5
}
