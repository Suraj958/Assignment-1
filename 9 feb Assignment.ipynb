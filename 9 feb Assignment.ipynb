{
 "cells": [
  {
   "cell_type": "code",
   "execution_count": 5,
   "id": "5279772d-a8fa-4db5-9ace-c555255ee873",
   "metadata": {},
   "outputs": [
    {
     "name": "stdout",
     "output_type": "stream",
     "text": [
      "Car\n",
      "120\n",
      "30\n"
     ]
    }
   ],
   "source": [
    "# Q1\n",
    "\n",
    "class Vehicle:\n",
    "    def __init__(self, name_of_vehicle, max_speed, average_of_vehicle):\n",
    "        self.name_of_vehicle = name_of_vehicle\n",
    "        self.max_speed = max_speed\n",
    "        self.average_of_vehicle = average_of_vehicle\n",
    "        \n",
    "my_vehicle = Vehicle(\"Car\", 120, 30)\n",
    "print(my_vehicle.name_of_vehicle)\n",
    "print(my_vehicle.max_speed)\n",
    "print(my_vehicle.average_of_vehicle)"
   ]
  },
  {
   "cell_type": "code",
   "execution_count": 6,
   "id": "40e22837-9c79-413b-a749-d97ec636f61c",
   "metadata": {},
   "outputs": [
    {
     "data": {
      "text/plain": [
       "'Maruti has a seating capacity of 4 passengers.'"
      ]
     },
     "execution_count": 6,
     "metadata": {},
     "output_type": "execute_result"
    }
   ],
   "source": [
    "# Q2\n",
    "\n",
    "class Car(Vehicle):\n",
    "    def seating_capacity(self, capacity):\n",
    "        return f\"{self.name_of_vehicle} has a seating capacity of {capacity} passengers.\"\n",
    "obj_car=Car(\"Maruti\",110,80)\n",
    "obj_car.seating_capacity(4)\n",
    "\n"
   ]
  },
  {
   "cell_type": "code",
   "execution_count": 7,
   "id": "1e5c6ad1-3c8c-4fd5-ae05-405f61f16347",
   "metadata": {},
   "outputs": [
    {
     "name": "stdout",
     "output_type": "stream",
     "text": [
      "Method 1 from Parent 1\n",
      "Method 2 from Parent 2\n"
     ]
    }
   ],
   "source": [
    "# Q3\n",
    "\n",
    "'''Multiple inheritance is a feature in object-oriented programming languages where a class can inherit properties and behavior\n",
    "from more than one parent class. This allows the child class to inherit attributes and methods from multiple parent classes,\n",
    "leading to a more reusable and flexible code.'''\n",
    "\n",
    "# example\n",
    "class Parent1:\n",
    "    def method1(self):\n",
    "        print(\"Method 1 from Parent 1\")\n",
    "\n",
    "class Parent2:\n",
    "    def method2(self):\n",
    "        print(\"Method 2 from Parent 2\")\n",
    "\n",
    "class Child(Parent1, Parent2):\n",
    "    pass\n",
    "\n",
    "c = Child()\n",
    "c.method1()\n",
    "c.method2()"
   ]
  },
  {
   "cell_type": "code",
   "execution_count": 8,
   "id": "25a31ed9-40db-43c7-9007-d451d2d0529a",
   "metadata": {},
   "outputs": [
    {
     "name": "stdout",
     "output_type": "stream",
     "text": [
      "John Doe\n",
      "Jane Doe\n"
     ]
    }
   ],
   "source": [
    "# Q4\n",
    "\n",
    "'''In Python, getters and setters are not the same as those in other object-oriented programming languages. Basically, the main \n",
    "purpose of using getters and setters in object-oriented programs is to ensure data encapsulation. Private variables in python\n",
    "are not actually hidden fields like in other object oriented languages. Getters and Setters in python are used for the\n",
    "following reasons\n",
    "1)To add validation logic around getting and setting a value. \n",
    "2)To avoid direct access of a class field i.e. private variables cannot be accessed directly or modified by external user.\n",
    "\n",
    "A getter is a method that gets the value of a property.\n",
    "\n",
    "A setter is a method that sets the value of a property.\n",
    "\n",
    "There are many ways to create getter and setters in Python. The most pythonic wasy is using @property decorator'''\n",
    "\n",
    "\n",
    "class Person:\n",
    "    def __init__(self, name):\n",
    "        self._name = name\n",
    "        \n",
    "    def get_name(self):\n",
    "        return self._name\n",
    "    \n",
    "    def set_name(self, name):\n",
    "        self._name = name\n",
    "        \n",
    "    name = property(get_name, set_name)\n",
    "\n",
    "p = Person(\"John Doe\")\n",
    "print(p.name)  \n",
    "p.name = \"Jane Doe\"\n",
    "print(p.name)  "
   ]
  },
  {
   "cell_type": "code",
   "execution_count": 9,
   "id": "b3047861-5997-4fe9-ab41-428541e1397c",
   "metadata": {},
   "outputs": [
    {
     "name": "stdout",
     "output_type": "stream",
     "text": [
      "The animal makes a sound.\n",
      "The dog barks.\n"
     ]
    }
   ],
   "source": [
    "# Q5\n",
    "\n",
    "'''Method overriding is a feature in object-oriented programming that allows a subclass to provide a specific implementation \n",
    "of a method that is already defined in its superclass. The purpose of method overriding is to allow a subclass to extend or\n",
    "modify the behavior of the superclass method.'''\n",
    "\n",
    "# example\n",
    "\n",
    "class Animal:\n",
    "    def make_sound(self):\n",
    "        print(\"The animal makes a sound.\")\n",
    "\n",
    "class Dog(Animal):\n",
    "    def make_sound(self):\n",
    "        print(\"The dog barks.\")\n",
    "\n",
    "a = Animal()\n",
    "d = Dog()\n",
    "\n",
    "a.make_sound()  \n",
    "d.make_sound() "
   ]
  },
  {
   "cell_type": "code",
   "execution_count": null,
   "id": "0261fbd2-bd13-4f60-8331-12eff08c2250",
   "metadata": {},
   "outputs": [],
   "source": []
  }
 ],
 "metadata": {
  "kernelspec": {
   "display_name": "Python 3 (ipykernel)",
   "language": "python",
   "name": "python3"
  },
  "language_info": {
   "codemirror_mode": {
    "name": "ipython",
    "version": 3
   },
   "file_extension": ".py",
   "mimetype": "text/x-python",
   "name": "python",
   "nbconvert_exporter": "python",
   "pygments_lexer": "ipython3",
   "version": "3.10.8"
  }
 },
 "nbformat": 4,
 "nbformat_minor": 5
}
