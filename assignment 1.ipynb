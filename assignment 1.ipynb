{
 "cells": [
  {
   "cell_type": "code",
   "execution_count": null,
   "id": "4242945f-6e91-4955-963d-02af6df6972f",
   "metadata": {},
   "outputs": [],
   "source": [
    "Q1 Guido van Rossum"
   ]
  },
  {
   "cell_type": "code",
   "execution_count": null,
   "id": "2fc188e7-fc32-409b-bd2f-f757321d0516",
   "metadata": {},
   "outputs": [],
   "source": [
    "Q2 object oriented programming, structured programming and functional programming"
   ]
  },
  {
   "cell_type": "code",
   "execution_count": null,
   "id": "bd76a202-7bc7-49a1-be69-d75a6150ba40",
   "metadata": {},
   "outputs": [],
   "source": [
    "Q3 yes,python is case sensitive when dealing with identifiers"
   ]
  },
  {
   "cell_type": "code",
   "execution_count": null,
   "id": "83a399e2-89b7-48e9-bdd9-03f32c74ef79",
   "metadata": {},
   "outputs": [],
   "source": [
    "Q4 .py"
   ]
  },
  {
   "cell_type": "code",
   "execution_count": null,
   "id": "e6d15b14-739b-4c1a-9576-fb0c381aac02",
   "metadata": {},
   "outputs": [],
   "source": [
    "Q5 Python code is both compiled and interpreted"
   ]
  },
  {
   "cell_type": "code",
   "execution_count": null,
   "id": "d23c48b0-3eee-41ef-8d4e-69e3679e4b71",
   "metadata": {},
   "outputs": [],
   "source": [
    "Q6 loops(for and while)\n",
    "   conditional statements(if-else)\n",
    "    functions"
   ]
  },
  {
   "cell_type": "code",
   "execution_count": null,
   "id": "377463d2-0fce-438a-9b63-dedf0fd9ec10",
   "metadata": {},
   "outputs": [],
   "source": [
    "Q7 #(hash character)"
   ]
  },
  {
   "cell_type": "code",
   "execution_count": null,
   "id": "50c168d7-4486-4e68-8f4d-0d79c4f3ce0f",
   "metadata": {},
   "outputs": [],
   "source": [
    "Q8 sys.version"
   ]
  },
  {
   "cell_type": "code",
   "execution_count": null,
   "id": "1dd770f6-b2b8-4560-8441-e1ee1fd05e78",
   "metadata": {},
   "outputs": [],
   "source": [
    "Q9 lambda"
   ]
  },
  {
   "cell_type": "code",
   "execution_count": null,
   "id": "2ec4e644-5b7b-4454-868d-8577b7104f04",
   "metadata": {},
   "outputs": [],
   "source": [
    "Q10 Preferred Installer Program"
   ]
  },
  {
   "cell_type": "code",
   "execution_count": null,
   "id": "f2617b13-3704-4d41-aa10-bebe5afde20d",
   "metadata": {},
   "outputs": [],
   "source": [
    "Q11 print()\n",
    "    type()\n",
    "    input()\n",
    "    len()\n",
    "    eval()"
   ]
  },
  {
   "cell_type": "code",
   "execution_count": null,
   "id": "46052071-ce2b-411d-a825-66fae8aadfaf",
   "metadata": {},
   "outputs": [],
   "source": [
    "Q12 maximum of 79 characters"
   ]
  },
  {
   "cell_type": "code",
   "execution_count": null,
   "id": "67bbf1dc-7272-4ec3-9e79-52fc4841bdab",
   "metadata": {},
   "outputs": [],
   "source": [
    "Q13 free and open source\n",
    "    Easy to Read, Learn and Write\n",
    "    Vast Libraries Support\n",
    "    Portability\n",
    "    dynamically typed language\n",
    "    "
   ]
  },
  {
   "cell_type": "code",
   "execution_count": null,
   "id": "b791d087-45d1-487c-8cf8-e4932523616e",
   "metadata": {},
   "outputs": [],
   "source": [
    "Q14 Memory management in Python involves a private heap containing all Python objects and data structures.\n",
    "The private heap is managed internally by the Python memory manager."
   ]
  },
  {
   "cell_type": "code",
   "execution_count": null,
   "id": "b4135d08-1604-4bf1-a1e4-cbfa656ed628",
   "metadata": {},
   "outputs": [],
   "source": [
    "Q15  go to browser write python download ,click python download and dowloading starts\n",
    "     after download go to the download folder and click on and install it.\n",
    "     after installation go to cmd and write python -v if python version comes then python is installed in your computer.\n",
    "     if version is not come then you have to set the path variable.\n",
    "     click on start button and type environment.\n",
    "     click on bottom right environment variable.\n",
    "     go to user variable and path variable and click on it.\n",
    "     click on new and copy the python path where you python is installed.\n",
    "     click ok "
   ]
  },
  {
   "cell_type": "code",
   "execution_count": null,
   "id": "47502f05-6f7d-4552-b4d3-51c85f584cbf",
   "metadata": {},
   "outputs": [],
   "source": [
    "Q16 Indentation is mandatory in python to define the blocks of statements.\n",
    "It is preferred to use whitespaces to indent in python.\n",
    "while other programming language such as C and Java uses curly braces."
   ]
  }
 ],
 "metadata": {
  "kernelspec": {
   "display_name": "Python 3 (ipykernel)",
   "language": "python",
   "name": "python3"
  },
  "language_info": {
   "codemirror_mode": {
    "name": "ipython",
    "version": 3
   },
   "file_extension": ".py",
   "mimetype": "text/x-python",
   "name": "python",
   "nbconvert_exporter": "python",
   "pygments_lexer": "ipython3",
   "version": "3.10.8"
  }
 },
 "nbformat": 4,
 "nbformat_minor": 5
}
