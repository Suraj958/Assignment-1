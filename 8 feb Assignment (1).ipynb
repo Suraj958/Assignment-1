{
 "cells": [
  {
   "cell_type": "code",
   "execution_count": 8,
   "id": "7e5d5bfd-5e4e-41e8-a1a5-d1dfea32cdc1",
   "metadata": {},
   "outputs": [
    {
     "name": "stdout",
     "output_type": "stream",
     "text": [
      "Circle area: 314.0\n",
      "Rectangle area: 600\n"
     ]
    }
   ],
   "source": [
    "# Q1\n",
    "'''Abstraction is a fundamental concept in object-oriented programming (OOP) that refers to the ability to focus on\n",
    "essential features of an object and ignore the non-essential details. It's a process of hiding the implementation details \n",
    "from the user and only showing the necessary information. This helps to reduce complexity and improve the maintainability\n",
    "of the code. For example, consider a car object in an OOP program. The abstraction of a car object would only show its\n",
    "properties, such as color, number of wheels, and fuel type, and hide the internal details, such as the engine specifications,\n",
    "transmission system, and the like. From the user's perspective, all they need to know is how to drive the car, start the \n",
    "engine, and stop it. They do not need to know how the engine works.'''\n",
    "\n",
    "\n",
    "# example\n",
    "\n",
    "'''In this example, the Shape class is an abstract base class that is defined by inheriting from the ABC class. The area\n",
    "method in the Shape class is declared as an abstract method using the abstractmethod decorator. This means that the Shape\n",
    "class cannot be instantiated and must be subclassed.'''\n",
    "\n",
    "from abc import ABC, abstractmethod\n",
    "\n",
    "class Shape(ABC):\n",
    "    @abstractmethod\n",
    "    def area(self):\n",
    "        pass\n",
    "\n",
    "class Circle(Shape):\n",
    "    def __init__(self, radius):\n",
    "        self.radius = radius\n",
    "\n",
    "    def area(self):\n",
    "        return 3.14 * (self.radius ** 2)\n",
    "\n",
    "class Rectangle(Shape):\n",
    "    def __init__(self, length, width):\n",
    "        self.length = length\n",
    "        self.width = width\n",
    "\n",
    "    def area(self):\n",
    "        return self.length * self.width\n",
    "\n",
    "circle = Circle(10)\n",
    "rectangle = Rectangle(20, 30)\n",
    "\n",
    "print(\"Circle area:\", circle.area())\n",
    "print(\"Rectangle area:\", rectangle.area())\n",
    "\n"
   ]
  },
  {
   "cell_type": "raw",
   "id": "7a67b2e6-dde1-4195-af9c-f1524d65215b",
   "metadata": {},
   "source": [
    "Q2\n",
    "\n",
    "Abstraction is the process of hiding the implementation details of an object and exposing only the necessary information to\n",
    "the user. This helps to reduce complexity and improve the maintainability of the code.\n",
    "\n",
    "Encapsulation, on the other hand, refers to the bundling of data and methods that operate on that data within a single unit,\n",
    "or object. It is a way of protecting the data from outside interference and misuse. In encapsulation, the internal \n",
    "representation of an object is hidden from the outside world, and only a public interface, or set of methods, is exposed to \n",
    "interact with the object.\n",
    "\n",
    "For example, consider a bank account object in an OOP program. Abstraction would hide the internal details of the bank \n",
    "account, such as the calculation of the account balance, and only expose the necessary information, such as the account \n",
    "balance and the deposit and withdrawal methods. Encapsulation would protect the account balance by hiding it behind the \n",
    "deposit and withdrawal methods, so that it can only be updated through those methods and not directly modified by other \n",
    "parts of the code."
   ]
  },
  {
   "cell_type": "raw",
   "id": "54e5668a-ce9a-4d30-ab95-87c5b5ed9e9e",
   "metadata": {},
   "source": [
    "Q3\n",
    "\n",
    "The abc (Abstract Base Class) module in Python is a module that provides the infrastructure for defining abstract base \n",
    "classes (ABCs). An abstract base class is a class that cannot be instantiated but can be subclassed. An ABC provides a \n",
    "common interface for a set of implementations, so that those implementations can be used interchangeably.\n",
    "\n",
    "The main purpose of using ABCs is to define a common interface for a set of related objects. This allows the code to be\n",
    "written in a more flexible and maintainable way, because it can operate on objects that have a common interface, regardless \n",
    "of the specific implementation details of those objects.\n",
    "\n",
    "For example, consider a program that works with different shapes, such as circles, squares, and triangles. One way to define\n",
    "the different shapes is to create a separate class for each shape and define the common methods, such as area and perimeter,\n",
    "in each class. However, this approach can lead to a lot of duplicated code and make the program difficult to maintain."
   ]
  },
  {
   "cell_type": "raw",
   "id": "ec9ab477-e9dd-41e3-b099-73580f250632",
   "metadata": {},
   "source": [
    "Q4\n",
    "\n",
    "Data abstraction is achieved by hiding the implementation details of an object and exposing only the necessary information to the user. This helps to reduce complexity and improve the maintainability of the code. There are several ways to achieve data abstraction in object-oriented programming:\n",
    "\n",
    "i)Encapsulation: Encapsulation is the bundling of data and methods that operate on that data within a single unit, or object. By encapsulating the data within an object, you can hide its implementation details and expose only a public interface, or set of methods, to interact with the object.\n",
    "\n",
    "ii)Abstract Classes: In object-oriented programming, you can define an abstract class that cannot be instantiated but can be subclassed. An abstract class provides a common interface for a set of implementations and allows the code to be written in a more flexible and maintainable way.\n",
    "\n",
    "iii)Interfaces: An interface is a collection of abstract methods (methods without implementation) that define a common interface for a set of related objects. By defining an interface, you can specify the methods that must be implemented by objects that belong to the interface, without having to define their implementation details.\n",
    "\n",
    "iv)Getters and Setters: Getters and setters are methods that allow you to retrieve or set the value of an object's properties. By using getters and setters, you can hide the implementation details of an object's properties and expose only the necessary information to the user.\n",
    "\n",
    "v)Information Hiding: Information hiding is the process of hiding the implementation details of an object and exposing only the necessary information to the user. This can be achieved by using techniques such as encapsulation, abstract classes, interfaces, and getters and setters\n"
   ]
  },
  {
   "cell_type": "raw",
   "id": "617913ff-1ac7-45cd-97c1-95ae8e83348b",
   "metadata": {},
   "source": [
    "Q5\n",
    "\n",
    "No, you cannot create an instance of an abstract class. An abstract class is a class that cannot be instantiated, but can be subclassed. The purpose of an abstract class is to provide a common interface for a set of related objects, but not to be used as a concrete object on its own.\n",
    "\n",
    "An abstract class defines the common methods that its subclasses must implement, but it does not provide an implementation for those methods. The subclasses that inherit from the abstract class must provide their own implementation for the abstract methods defined in the abstract class.\n",
    "\n",
    " \n"
   ]
  },
  {
   "cell_type": "code",
   "execution_count": null,
   "id": "b6996456-824d-433d-a72e-74e42403481c",
   "metadata": {},
   "outputs": [],
   "source": []
  }
 ],
 "metadata": {
  "kernelspec": {
   "display_name": "Python 3 (ipykernel)",
   "language": "python",
   "name": "python3"
  },
  "language_info": {
   "codemirror_mode": {
    "name": "ipython",
    "version": 3
   },
   "file_extension": ".py",
   "mimetype": "text/x-python",
   "name": "python",
   "nbconvert_exporter": "python",
   "pygments_lexer": "ipython3",
   "version": "3.10.8"
  }
 },
 "nbformat": 4,
 "nbformat_minor": 5
}
